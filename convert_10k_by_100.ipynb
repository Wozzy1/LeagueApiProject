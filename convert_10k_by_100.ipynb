{
 "cells": [
  {
   "cell_type": "code",
   "execution_count": 2,
   "metadata": {},
   "outputs": [],
   "source": [
    "from main import *\n",
    "import time\n",
    "import pandas as pd\n",
    "import json\n",
    "import requests\n",
    "import os\n",
    "from util import *\n",
    "api_key = os.environ.get(\"riot_api_key\")\n",
    "program = GameDataGenerator(api_key, name=None)\n",
    "_util = util()\n"
   ]
  },
  {
   "cell_type": "markdown",
   "metadata": {},
   "source": [
    "Goal: \n",
    "to read 10k rows from csv X<br>\n",
    "send them through main 100 entries at a time - NEED TO FIGURE OUT HOW TO KEEP TRACK OF WHERE I AM IN THE TOTAL LIST (INDEXING PROBLEM)<br>\n",
    "piece together all 100 runs into one big dataset<br>\n",
    "output dataset to be split into training and testing data<br>"
   ]
  },
  {
   "cell_type": "markdown",
   "metadata": {},
   "source": [
    "1. get info: check if ranked then take data\n",
    "2. save to local cache file\n",
    "3. check limit, if okay then back to step 1"
   ]
  },
  {
   "cell_type": "code",
   "execution_count": 38,
   "metadata": {},
   "outputs": [],
   "source": [
    "\"\"\" Trying new source of match ids (~140000 NA1 matches) \"\"\"\n",
    "file = open(\"americas_match_ids.json\", \"r\")\n",
    "data = json.load(file)\n"
   ]
  },
  {
   "cell_type": "code",
   "execution_count": 39,
   "metadata": {},
   "outputs": [
    {
     "name": "stdout",
     "output_type": "stream",
     "text": [
      "It exists already\n"
     ]
    }
   ],
   "source": []
  },
  {
   "cell_type": "code",
   "execution_count": 40,
   "metadata": {},
   "outputs": [
    {
     "name": "stderr",
     "output_type": "stream",
     "text": [
      "<>:17: SyntaxWarning: \"is not\" with a literal. Did you mean \"!=\"?\n",
      "<>:17: SyntaxWarning: \"is not\" with a literal. Did you mean \"!=\"?\n",
      "C:\\Users\\diepw\\AppData\\Local\\Temp\\ipykernel_31424\\4152742480.py:17: SyntaxWarning: \"is not\" with a literal. Did you mean \"!=\"?\n",
      "  if r.status_code is not 200:\n"
     ]
    },
    {
     "name": "stdout",
     "output_type": "stream",
     "text": [
      "Taking a 2 minute break but currently 1482/143177\n",
      "Taking a 2 minute break but currently 1578/143177\n",
      "Taking a 2 minute break but currently 1674/143177\n"
     ]
    }
   ],
   "source": [
    "\"\"\"Loading data to cache from json source\"\"\"\n",
    "EXPECTED_RUNTIME = 1.2\n",
    "for id in data['match_ids']:\n",
    "    # set start time to compare later\n",
    "    startTime = time.time()\n",
    "    \n",
    "    # check if id is already in cache\n",
    "    cachedResponse = _util.loadFromCache(cacheKey=id)\n",
    "\n",
    "    # if it's found, skip this id\n",
    "    if cachedResponse is not None: \n",
    "        continue\n",
    "\n",
    "    # id wasn't found, so make call\n",
    "    url = f\"https://americas.api.riotgames.com/lol/match/v5/matches/{id}?api_key={api_key}\"\n",
    "    r = requests.get(url)\n",
    "    if r.status_code != 200:\n",
    "        continue\n",
    "    gameData = program.getOneGameStatsWithResponse(r)\n",
    "    \n",
    "    # save call data to cache\n",
    "    _util.saveToCache(gameData, id)\n",
    "\n",
    "    # check if it ran faster than 1.2 sec \n",
    "    # because if it did, need to stall a bit \n",
    "    # to not exceed more than 1 call per 1.2 sec\n",
    "    elaspedTime = time.time() - startTime\n",
    "    if elaspedTime < EXPECTED_RUNTIME:\n",
    "        time.sleep(EXPECTED_RUNTIME - elaspedTime)\n",
    "\n",
    "    # if it gets close to the 100 call limit, it will automatically rest for 2 minutes\n",
    "    if program.exceedsRateLimit(dict(r.headers)):\n",
    "        progress = len(os.listdir(_util.cacheDir))\n",
    "        print(f\"Taking a 2 minute break but currently {progress}/143177\")\n",
    "        time.sleep(120)\n",
    "        print(\"Resuming...\")\n",
    "\n"
   ]
  },
  {
   "cell_type": "code",
   "execution_count": 3,
   "metadata": {},
   "outputs": [
    {
     "ename": "NameError",
     "evalue": "name '_util' is not defined",
     "output_type": "error",
     "traceback": [
      "\u001b[1;31m---------------------------------------------------------------------------\u001b[0m",
      "\u001b[1;31mNameError\u001b[0m                                 Traceback (most recent call last)",
      "Cell \u001b[1;32mIn[3], line 1\u001b[0m\n\u001b[1;32m----> 1\u001b[0m \u001b[38;5;28mlen\u001b[39m(os\u001b[38;5;241m.\u001b[39mlistdir(\u001b[43m_util\u001b[49m\u001b[38;5;241m.\u001b[39mcacheDir))\n",
      "\u001b[1;31mNameError\u001b[0m: name '_util' is not defined"
     ]
    }
   ],
   "source": [
    "len(os.listdir(_util.cacheDir))"
   ]
  },
  {
   "cell_type": "markdown",
   "metadata": {},
   "source": [
    "for each dict in cache\n",
    "if dict name not in csv first col\n",
    "then add dict to csv"
   ]
  },
  {
   "cell_type": "code",
   "execution_count": null,
   "metadata": {},
   "outputs": [],
   "source": [
    "# open current contents of the csv\n",
    "try:\n",
    "    dataFromCSV = pd.read_csv(\"data.csv\")\n",
    "except:\n",
    "    print(\"The csv was empty so the headers were intialized.\")\n",
    "    temp = _util.loadFromCache(\"NA1_4794682594\")\n",
    "    columnNames = temp.keys()\n",
    "    temp_df = pd.DataFrame(columns=columnNames)\n",
    "    temp_df.to_csv(\"data.csv\", index=False)\n",
    "\n",
    "\n",
    "# create a list of current ids stored to check for incoming dupes\n",
    "gameIds = dataFromCSV['gameId'].tolist()\n",
    "# loop through each thing cached, filter out dupes, and then filter out non ranked. lastly, append to csv\n",
    "for item in os.listdir(_util.cacheDir):\n",
    "    item = item.split('.')[0]\n",
    "    if item not in gameIds:\n",
    "        itemInfo = _util.loadFromCache(item)\n",
    "        if itemInfo['queueId'] == 420:\n",
    "            df = pd.DataFrame([itemInfo])\n",
    "            df.to_csv(\"data.csv\", mode=\"a\", header=False, index=False)\n",
    "        # else:\n",
    "        #     print(\"it wasnt a ranked game\")"
   ]
  }
 ],
 "metadata": {
  "kernelspec": {
   "display_name": "Python 3",
   "language": "python",
   "name": "python3"
  },
  "language_info": {
   "codemirror_mode": {
    "name": "ipython",
    "version": 3
   },
   "file_extension": ".py",
   "mimetype": "text/x-python",
   "name": "python",
   "nbconvert_exporter": "python",
   "pygments_lexer": "ipython3",
   "version": "3.11.7"
  }
 },
 "nbformat": 4,
 "nbformat_minor": 2
}
