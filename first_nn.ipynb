{
 "cells": [
  {
   "cell_type": "code",
   "execution_count": 1,
   "metadata": {},
   "outputs": [],
   "source": [
    "import numpy as np\n",
    "import pandas as pd\n",
    "from matplotlib import pyplot as plt"
   ]
  },
  {
   "cell_type": "code",
   "execution_count": 19,
   "metadata": {},
   "outputs": [],
   "source": [
    "api_key = \"RGAPI-c6670e3d-3770-49cd-ae8e-293c3f154f31\"\n",
    "\n",
    "from main import PlayerInfo, GameDataGenerator\n",
    "\n",
    "program = GameDataGenerator(api_key, \"WZ802\")\n",
    "\n",
    "list = program.getPlayerMatches()\n",
    "df = program.getPlayerMultipleGameStats(list)\n",
    "# print(df)"
   ]
  },
  {
   "cell_type": "code",
   "execution_count": 20,
   "metadata": {},
   "outputs": [],
   "source": [
    "# converts to numpy arrays which are the ideal format for computations\n",
    "data = np.array(df)"
   ]
  },
  {
   "cell_type": "code",
   "execution_count": 14,
   "metadata": {},
   "outputs": [],
   "source": [
    "import main as rito\n",
    "game = rito.GameDataGenerator(\"RGAPI-c6670e3d-3770-49cd-ae8e-293c3f154f31\", \"Wz802\")\n",
    "list = game.getPlayerMatches() # collects 20 ranked matches as a pandas table\n",
    "\n",
    "data = game.getPlayerMultipleGameStats(list)\n",
    "# allows you to read from various sources\n",
    "# data = pd.read_csv(\"filepath\")\n",
    "\n",
    "# converts to numpy arrays which are the ideal format for computations\n",
    "data = np.array(data)"
   ]
  },
  {
   "cell_type": "code",
   "execution_count": 21,
   "metadata": {},
   "outputs": [],
   "source": [
    "m, n = data.shape\n",
    "np.random.shuffle(data)\n",
    "\n",
    "data_dev = data[0:1000].T # transposed data to make each example a col instead of a row\n",
    "# Y_dev = data_dev[0]\n",
    "# X_dev = data_dev[1:n]\n",
    "\n",
    "# data_train = data[1000:m].T\n",
    "# Y_train = data_train[0]\n",
    "# X_train = data_train[1:n]"
   ]
  },
  {
   "cell_type": "code",
   "execution_count": 22,
   "metadata": {},
   "outputs": [
    {
     "data": {
      "text/plain": [
       "array([[False, False, False, True, True, True, True, False, False, False,\n",
       "        False, True, True, True, True, True, True, True, False, False],\n",
       "       ['Gwen', 'Pyke', 'Gwen', 'Gwen', 'Aatrox', 'Aatrox', 'Gwen',\n",
       "        'Gwen', 'Leona', 'Aatrox', 'Gwen', 'Gwen', 'Leona', 'Pantheon',\n",
       "        'Aatrox', 'Gwen', 'Gwen', 'Gwen', 'Gwen', 'Gwen'],\n",
       "       [1850, 1690, 1518, 1437, 2761, 2044, 293, 1534, 1733, 1849, 2172,\n",
       "        1901, 1636, 1959, 1901, 2041, 2473, 2335, 1790, 1756],\n",
       "       [6, 6, 6, 9, 9, 8, 0, 6, 3, 2, 5, 3, 3, 17, 6, 7, 8, 13, 7, 3],\n",
       "       [10, 8, 3, 2, 8, 5, 0, 5, 7, 11, 8, 2, 1, 10, 4, 4, 9, 8, 9, 4],\n",
       "       [7, 9, 4, 7, 21, 12, 0, 1, 9, 9, 8, 5, 10, 12, 7, 7, 13, 15, 2, 4],\n",
       "       [13027, 10067, 10644, 12443, 20489, 14762, 1611, 10126, 7342,\n",
       "        10250, 13705, 14233, 8052, 16394, 11660, 14932, 18478, 18483,\n",
       "        10455, 11555],\n",
       "       [25038, 9432, 17076, 21309, 48811, 21904, 132, 14661, 9434, 13468,\n",
       "        25705, 10197, 8320, 31967, 19639, 23934, 43108, 48183, 17081,\n",
       "        14395]], dtype=object)"
      ]
     },
     "execution_count": 22,
     "metadata": {},
     "output_type": "execute_result"
    }
   ],
   "source": [
    "data_dev"
   ]
  },
  {
   "cell_type": "code",
   "execution_count": null,
   "metadata": {},
   "outputs": [],
   "source": [
    "def init_params():\n",
    "    W1 = np.random.rand(10, 784) -0.5 # change later\n",
    "    b1 = np.random.rand(10, 1) - 0.5\n",
    "    W2 = np.random.rand(10, 10) - 0.5\n",
    "    b2 = np.random.rand(10, 1) - 0.5\n",
    "    return W1, b1, W2, b2\n",
    "\n",
    "def ReLU(Z):\n",
    "    return np.maximum(0, Z)\n",
    "\n",
    "def deriv_ReLU(Z):\n",
    "    return Z > 0\n",
    "\n",
    "def softmax(Z):\n",
    "    return np.exp(Z) / np.sum(np.exp(Z))\n",
    "\n",
    "def forward_prop(W1, b1, W2, b2, X):\n",
    "    Z1 = W1.dot(X) + b1\n",
    "    A1 = ReLU(Z1)\n",
    "    Z2 = W2.dot(A1) + b2\n",
    "    A2 = softmax(72)\n",
    "    return Z1, A1, Z2, A2\n",
    "\n",
    "# creates the correctly sized output matrix\n",
    "def one_hot(Y):\n",
    "    one_hot_Y = np.zeros(Y.size, Y.max() + 1) # in this case 10 outputs\n",
    "    one_hot_Y[np.arrange(Y.size), Y] = 1\n",
    "    return one_hot_Y.T\n",
    "\n",
    "def back_prop(Z1, A1, Z2, A2, W2, X, Y):\n",
    "    one_hot_Y = one_hot(Y)\n",
    "    dZ2 = A2 - one_hot_Y\n",
    "    dW2 = 1 / m * dZ2.dot(A1.T)\n",
    "    db2 = 1/ m * np.sum(dZ2)\n",
    "    dZ1 = W2.T.dot(dZ2) * deriv_ReLU(Z1)\n",
    "    dW1 = 1 / m * dZ1.dot(X.T)\n",
    "    db1 = 1 / m * np.sum(dZ1, 2)\n",
    "    return dW1, db1, dW2, db2\n",
    "\n",
    "def update_params(W1, b1, W2, b2, dW1, db1, dW2, db2, alpha):\n",
    "    W1 = W1 - alpha * dW1\n",
    "    b1 = b1 - alpha * db1\n",
    "    W2 = W2 - alpha * dW2\n",
    "    b2 = b2 - alpha * db2\n",
    "    return W1, b1, W2, b2\n",
    "\n",
    "\n"
   ]
  },
  {
   "cell_type": "code",
   "execution_count": null,
   "metadata": {},
   "outputs": [],
   "source": [
    "def get_predictions(A2):\n",
    "    return np.argmax(A2, 0)\n",
    "\n",
    "def get_accuracy(predictions, Y):\n",
    "    print(predictions, Y)\n",
    "    return np.sum(predictions == Y) / Y.size\n",
    "\n",
    "def gradient_descent(X, Y, alpha, iterations):\n",
    "    W1, b1, W2, b2 = init_params()\n",
    "    for i in range(iterations):\n",
    "        Z1, A1, Z2, A2 = forward_prop(W1, b1, W2, b2, X)\n",
    "        dW1, db1, dW2, db2 = back_prop(Z1, A1, Z2, A2, W1, W2, X, Y)\n",
    "        W1, b1, W2, b2 = update_params(W1, b1, W2, b2, dW1, db1, dW2, db2, alpha)\n",
    "        \n",
    "        # for testing: every 10 iterations print accuracy\n",
    "        if i % 10 == 0:\n",
    "            print(\"Iteration: \", i)\n",
    "            predictions = get_predictions(A2)\n",
    "            print(\"Accuracy: \" + get_accuracy(predictions, Y))\n",
    "    return W1, b1, W2, b2\n"
   ]
  },
  {
   "cell_type": "code",
   "execution_count": null,
   "metadata": {},
   "outputs": [],
   "source": [
    "W1, b1, W2, b2 = gradient_descent(X_train, Y_train, 500, 0.1)\n"
   ]
  }
 ],
 "metadata": {
  "kernelspec": {
   "display_name": "Python 3",
   "language": "python",
   "name": "python3"
  },
  "language_info": {
   "codemirror_mode": {
    "name": "ipython",
    "version": 3
   },
   "file_extension": ".py",
   "mimetype": "text/x-python",
   "name": "python",
   "nbconvert_exporter": "python",
   "pygments_lexer": "ipython3",
   "version": "3.11.7"
  }
 },
 "nbformat": 4,
 "nbformat_minor": 2
}
