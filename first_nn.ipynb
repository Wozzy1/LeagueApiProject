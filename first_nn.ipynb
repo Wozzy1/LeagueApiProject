{
 "cells": [
  {
   "cell_type": "code",
   "execution_count": 1,
   "metadata": {},
   "outputs": [],
   "source": [
    "import numpy as np\n",
    "import pandas as pd\n",
    "from matplotlib import pyplot as plt"
   ]
  },
  {
   "cell_type": "code",
   "execution_count": 2,
   "metadata": {},
   "outputs": [],
   "source": [
    "api_key = \"RGAPI-c6670e3d-3770-49cd-ae8e-293c3f154f31\"\n",
    "\n",
    "from main import PlayerInfo, GameDataGenerator\n",
    "\n",
    "program = GameDataGenerator(api_key, \"WZ802\")\n",
    "\n",
    "list = program.getPlayerMatches()\n",
    "df = program.getMultipleGameStatsByPlayer(list)\n",
    "# print(df)"
   ]
  },
  {
   "cell_type": "code",
   "execution_count": 3,
   "metadata": {},
   "outputs": [],
   "source": [
    "# converts to numpy arrays which are the ideal format for computations\n",
    "data = np.array(df)"
   ]
  },
  {
   "cell_type": "code",
   "execution_count": 4,
   "metadata": {},
   "outputs": [],
   "source": [
    "m, n = data.shape\n",
    "np.random.shuffle(data)\n",
    "\n",
    "data_dev = data[0:10].T # transposed data to make each example a col instead of a row\n",
    "Y_dev = data_dev[0]\n",
    "X_dev = data_dev[1:n]\n",
    "\n",
    "data_train = data[10:m].T\n",
    "Y_train = data_train[0]\n",
    "X_train = data_train[1:n]"
   ]
  },
  {
   "cell_type": "code",
   "execution_count": 5,
   "metadata": {},
   "outputs": [
    {
     "name": "stdout",
     "output_type": "stream",
     "text": [
      "20 7\n"
     ]
    }
   ],
   "source": [
    "print(m, n)"
   ]
  },
  {
   "cell_type": "code",
   "execution_count": 6,
   "metadata": {},
   "outputs": [],
   "source": [
    "def init_params():\n",
    "    \n",
    "    input_size = 7  # Change this based on your input size\n",
    "    hidden_layer_size = 10\n",
    "    output_size = 2  # Change this based on your output size\n",
    "\n",
    "    W1 = np.random.rand(input_size, hidden_layer_size) - 0.5\n",
    "    b1 = np.random.rand(hidden_layer_size, 1) - 0.5\n",
    "    W2 = np.random.rand(hidden_layer_size, output_size) - 0.5\n",
    "    b2 = np.random.rand(output_size, 1) - 0.5\n",
    "    \n",
    "    # W1 = np.random.rand(7, 1) -0.5 # change later\n",
    "    # b1 = np.random.rand(5, 1) - 0.5\n",
    "    # W2 = np.random.rand(5, 2) - 0.5\n",
    "    # b2 = np.random.rand(2, 1) - 0.5\n",
    "    return W1, b1, W2, b2\n",
    "\n",
    "def ReLU(Z):\n",
    "    return np.maximum(0, Z)\n",
    "\n",
    "def deriv_ReLU(Z):\n",
    "    return Z > 0\n",
    "\n",
    "def softmax(Z):\n",
    "    return np.exp(Z) / np.sum(np.exp(Z))\n",
    "\n",
    "def forward_prop(W1, b1, W2, b2, X):\n",
    "    print(W1)\n",
    "    print(X)\n",
    "    return\n",
    "\n",
    "    Z1 = W1.dot(X) + b1\n",
    "    A1 = ReLU(Z1)\n",
    "    Z2 = W2.dot(A1) + b2\n",
    "    A2 = softmax(72)\n",
    "    return Z1, A1, Z2, A2\n",
    "\n",
    "# creates the correctly sized output matrix\n",
    "def one_hot(Y):\n",
    "    one_hot_Y = np.zeros(Y.size, Y.max() + 1) # in this case 10 outputs\n",
    "    one_hot_Y[np.arrange(Y.size), Y] = 1\n",
    "    return one_hot_Y.T\n",
    "\n",
    "def back_prop(Z1, A1, Z2, A2, W2, X, Y):\n",
    "    one_hot_Y = one_hot(Y)\n",
    "    dZ2 = A2 - one_hot_Y\n",
    "    dW2 = 1 / m * dZ2.dot(A1.T)\n",
    "    db2 = 1/ m * np.sum(dZ2)\n",
    "    dZ1 = W2.T.dot(dZ2) * deriv_ReLU(Z1)\n",
    "    dW1 = 1 / m * dZ1.dot(X.T)\n",
    "    db1 = 1 / m * np.sum(dZ1, 2)\n",
    "    return dW1, db1, dW2, db2\n",
    "\n",
    "def update_params(W1, b1, W2, b2, dW1, db1, dW2, db2, alpha):\n",
    "    W1 = W1 - alpha * dW1\n",
    "    b1 = b1 - alpha * db1\n",
    "    W2 = W2 - alpha * dW2\n",
    "    b2 = b2 - alpha * db2\n",
    "    return W1, b1, W2, b2\n",
    "\n",
    "\n"
   ]
  },
  {
   "cell_type": "code",
   "execution_count": 7,
   "metadata": {},
   "outputs": [],
   "source": [
    "def get_predictions(A2):\n",
    "    return np.argmax(A2, 0)\n",
    "\n",
    "def get_accuracy(predictions, Y):\n",
    "    print(predictions, Y)\n",
    "    return np.sum(predictions == Y) / Y.size\n",
    "\n",
    "def gradient_descent(X, Y, iterations, alpha):\n",
    "    W1, b1, W2, b2 = init_params()\n",
    "    for i in range(iterations):\n",
    "        Z1, A1, Z2, A2 = forward_prop(W1, b1, W2, b2, X)\n",
    "        break\n",
    "        dW1, db1, dW2, db2 = back_prop(Z1, A1, Z2, A2, W1, W2, X, Y)\n",
    "        W1, b1, W2, b2 = update_params(W1, b1, W2, b2, dW1, db1, dW2, db2, alpha)\n",
    "        \n",
    "        # for testing: every 10 iterations print accuracy\n",
    "        if i % 10 == 0:\n",
    "            print(\"Iteration: \", i)\n",
    "            predictions = get_predictions(A2)\n",
    "            print(\"Accuracy: \" + get_accuracy(predictions, Y))\n",
    "    return W1, b1, W2, b2\n"
   ]
  },
  {
   "cell_type": "code",
   "execution_count": 8,
   "metadata": {},
   "outputs": [
    {
     "name": "stdout",
     "output_type": "stream",
     "text": [
      "[[ 0.06967634 -0.40918477  0.14436558 -0.45935219  0.20755821  0.31777007\n",
      "  -0.27321538  0.35567816  0.1836338   0.09251797]\n",
      " [ 0.02608043  0.10715366 -0.17273338  0.08214047  0.46601107 -0.2471944\n",
      "  -0.40301884 -0.11879287 -0.45576967 -0.41164908]\n",
      " [ 0.27090223  0.35697048 -0.41782906 -0.48713722  0.05809118 -0.31646901\n",
      "  -0.41710767  0.20899428 -0.13039199  0.14831121]\n",
      " [-0.07814553  0.31116732 -0.10724567 -0.39881572 -0.07019555  0.43733402\n",
      "   0.12627902  0.33482751  0.11993382 -0.15908306]\n",
      " [ 0.42563194 -0.30810106 -0.39372353  0.19741404 -0.00979853  0.27767049\n",
      "   0.39513143  0.1325062   0.11783492 -0.49389569]\n",
      " [-0.33015906 -0.01176111 -0.08906966  0.42342385  0.45371062 -0.02157455\n",
      "  -0.14523438  0.19409369 -0.17513515  0.37914088]\n",
      " [-0.30059126  0.00194107 -0.48011816  0.19391123  0.26197664 -0.41941181\n",
      "   0.13089327  0.06881242  0.25535051 -0.25545778]]\n",
      "[[2172 1901 2041 2335 293 1690 2044 1901 1733 1849]\n",
      " [5 6 7 13 0 6 8 3 3 2]\n",
      " [8 4 4 8 0 8 5 2 7 11]\n",
      " [8 7 7 15 0 9 12 5 9 9]\n",
      " [13705 11660 14932 18483 1611 10067 14762 14233 7342 10250]\n",
      " [25705 19639 23934 48183 132 9432 21904 10197 9434 13468]]\n"
     ]
    },
    {
     "ename": "TypeError",
     "evalue": "cannot unpack non-iterable NoneType object",
     "output_type": "error",
     "traceback": [
      "\u001b[1;31m---------------------------------------------------------------------------\u001b[0m",
      "\u001b[1;31mTypeError\u001b[0m                                 Traceback (most recent call last)",
      "Cell \u001b[1;32mIn[8], line 1\u001b[0m\n\u001b[1;32m----> 1\u001b[0m W1, b1, W2, b2 \u001b[38;5;241m=\u001b[39m \u001b[43mgradient_descent\u001b[49m\u001b[43m(\u001b[49m\u001b[43mX_train\u001b[49m\u001b[43m,\u001b[49m\u001b[43m \u001b[49m\u001b[43mY_train\u001b[49m\u001b[43m,\u001b[49m\u001b[43m \u001b[49m\u001b[38;5;241;43m10\u001b[39;49m\u001b[43m,\u001b[49m\u001b[43m \u001b[49m\u001b[38;5;241;43m0.1\u001b[39;49m\u001b[43m)\u001b[49m\n\u001b[0;32m      2\u001b[0m \u001b[38;5;28mprint\u001b[39m(X_train)\n",
      "Cell \u001b[1;32mIn[7], line 11\u001b[0m, in \u001b[0;36mgradient_descent\u001b[1;34m(X, Y, iterations, alpha)\u001b[0m\n\u001b[0;32m      9\u001b[0m W1, b1, W2, b2 \u001b[38;5;241m=\u001b[39m init_params()\n\u001b[0;32m     10\u001b[0m \u001b[38;5;28;01mfor\u001b[39;00m i \u001b[38;5;129;01min\u001b[39;00m \u001b[38;5;28mrange\u001b[39m(iterations):\n\u001b[1;32m---> 11\u001b[0m     Z1, A1, Z2, A2 \u001b[38;5;241m=\u001b[39m forward_prop(W1, b1, W2, b2, X)\n\u001b[0;32m     12\u001b[0m     \u001b[38;5;28;01mbreak\u001b[39;00m\n\u001b[0;32m     13\u001b[0m     dW1, db1, dW2, db2 \u001b[38;5;241m=\u001b[39m back_prop(Z1, A1, Z2, A2, W1, W2, X, Y)\n",
      "\u001b[1;31mTypeError\u001b[0m: cannot unpack non-iterable NoneType object"
     ]
    }
   ],
   "source": [
    "W1, b1, W2, b2 = gradient_descent(X_train, Y_train, 10, 0.1)\n",
    "print(X_train)\n"
   ]
  }
 ],
 "metadata": {
  "kernelspec": {
   "display_name": "Python 3",
   "language": "python",
   "name": "python3"
  },
  "language_info": {
   "codemirror_mode": {
    "name": "ipython",
    "version": 3
   },
   "file_extension": ".py",
   "mimetype": "text/x-python",
   "name": "python",
   "nbconvert_exporter": "python",
   "pygments_lexer": "ipython3",
   "version": "3.11.7"
  }
 },
 "nbformat": 4,
 "nbformat_minor": 2
}
